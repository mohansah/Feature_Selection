{
 "cells": [
  {
   "cell_type": "markdown",
   "metadata": {},
   "source": [
    "# Feature Selection with sklearn and Pandas"
   ]
  },
  {
   "cell_type": "markdown",
   "metadata": {},
   "source": [
    "Feature selection is one of the first and important steps while performing any machine learning task. A feature in case of a dataset simply means a column. When we get any dataset, not necessarily every column (feature) is going to have an impact on the output variable. If we add these irrelevant features in the model, it will just make the model worst (Garbage In Garbage Out). This gives rise to the need of doing feature selection."
   ]
  },
  {
   "cell_type": "markdown",
   "metadata": {},
   "source": [
    "Feature selection can be done in multiple ways but there are broadly 3 categories of it:\n",
    "1. Filter Method \n",
    "2. Wrapper Method \n",
    "3. Embedded Method"
   ]
  },
  {
   "cell_type": "code",
   "execution_count": 1,
   "metadata": {},
   "outputs": [],
   "source": [
    "#importing libraries\n",
    "from sklearn.datasets import load_boston\n",
    "import pandas as pd\n",
    "import numpy as np\n",
    "import matplotlib\n",
    "import matplotlib.pyplot as plt\n",
    "import seaborn as sns\n",
    "import statsmodels.api as sm\n",
    "%matplotlib inline\n",
    "from sklearn.model_selection import train_test_split\n",
    "from sklearn.linear_model import LinearRegression\n",
    "from sklearn.feature_selection import RFE\n",
    "from sklearn.linear_model import RidgeCV, LassoCV, Ridge, Lasso"
   ]
  },
  {
   "cell_type": "code",
   "execution_count": 2,
   "metadata": {},
   "outputs": [
    {
     "data": {
      "text/plain": [
       "array([[6.3200e-03, 1.8000e+01, 2.3100e+00, ..., 1.5300e+01, 3.9690e+02,\n",
       "        4.9800e+00],\n",
       "       [2.7310e-02, 0.0000e+00, 7.0700e+00, ..., 1.7800e+01, 3.9690e+02,\n",
       "        9.1400e+00],\n",
       "       [2.7290e-02, 0.0000e+00, 7.0700e+00, ..., 1.7800e+01, 3.9283e+02,\n",
       "        4.0300e+00],\n",
       "       ...,\n",
       "       [6.0760e-02, 0.0000e+00, 1.1930e+01, ..., 2.1000e+01, 3.9690e+02,\n",
       "        5.6400e+00],\n",
       "       [1.0959e-01, 0.0000e+00, 1.1930e+01, ..., 2.1000e+01, 3.9345e+02,\n",
       "        6.4800e+00],\n",
       "       [4.7410e-02, 0.0000e+00, 1.1930e+01, ..., 2.1000e+01, 3.9690e+02,\n",
       "        7.8800e+00]])"
      ]
     },
     "execution_count": 2,
     "metadata": {},
     "output_type": "execute_result"
    }
   ],
   "source": [
    "#Loading the dataset\n",
    "x = load_boston()\n",
    "x.data"
   ]
  },
  {
   "cell_type": "code",
   "execution_count": 3,
   "metadata": {},
   "outputs": [
    {
     "data": {
      "text/plain": [
       "array(['CRIM', 'ZN', 'INDUS', 'CHAS', 'NOX', 'RM', 'AGE', 'DIS', 'RAD',\n",
       "       'TAX', 'PTRATIO', 'B', 'LSTAT'], dtype='<U7')"
      ]
     },
     "execution_count": 3,
     "metadata": {},
     "output_type": "execute_result"
    }
   ],
   "source": [
    "x.feature_names"
   ]
  },
  {
   "cell_type": "code",
   "execution_count": 4,
   "metadata": {},
   "outputs": [
    {
     "data": {
      "text/plain": [
       "array([24. , 21.6, 34.7, 33.4, 36.2, 28.7, 22.9, 27.1, 16.5, 18.9, 15. ,\n",
       "       18.9, 21.7, 20.4, 18.2, 19.9, 23.1, 17.5, 20.2, 18.2, 13.6, 19.6,\n",
       "       15.2, 14.5, 15.6, 13.9, 16.6, 14.8, 18.4, 21. , 12.7, 14.5, 13.2,\n",
       "       13.1, 13.5, 18.9, 20. , 21. , 24.7, 30.8, 34.9, 26.6, 25.3, 24.7,\n",
       "       21.2, 19.3, 20. , 16.6, 14.4, 19.4, 19.7, 20.5, 25. , 23.4, 18.9,\n",
       "       35.4, 24.7, 31.6, 23.3, 19.6, 18.7, 16. , 22.2, 25. , 33. , 23.5,\n",
       "       19.4, 22. , 17.4, 20.9, 24.2, 21.7, 22.8, 23.4, 24.1, 21.4, 20. ,\n",
       "       20.8, 21.2, 20.3, 28. , 23.9, 24.8, 22.9, 23.9, 26.6, 22.5, 22.2,\n",
       "       23.6, 28.7, 22.6, 22. , 22.9, 25. , 20.6, 28.4, 21.4, 38.7, 43.8,\n",
       "       33.2, 27.5, 26.5, 18.6, 19.3, 20.1, 19.5, 19.5, 20.4, 19.8, 19.4,\n",
       "       21.7, 22.8, 18.8, 18.7, 18.5, 18.3, 21.2, 19.2, 20.4, 19.3, 22. ,\n",
       "       20.3, 20.5, 17.3, 18.8, 21.4, 15.7, 16.2, 18. , 14.3, 19.2, 19.6,\n",
       "       23. , 18.4, 15.6, 18.1, 17.4, 17.1, 13.3, 17.8, 14. , 14.4, 13.4,\n",
       "       15.6, 11.8, 13.8, 15.6, 14.6, 17.8, 15.4, 21.5, 19.6, 15.3, 19.4,\n",
       "       17. , 15.6, 13.1, 41.3, 24.3, 23.3, 27. , 50. , 50. , 50. , 22.7,\n",
       "       25. , 50. , 23.8, 23.8, 22.3, 17.4, 19.1, 23.1, 23.6, 22.6, 29.4,\n",
       "       23.2, 24.6, 29.9, 37.2, 39.8, 36.2, 37.9, 32.5, 26.4, 29.6, 50. ,\n",
       "       32. , 29.8, 34.9, 37. , 30.5, 36.4, 31.1, 29.1, 50. , 33.3, 30.3,\n",
       "       34.6, 34.9, 32.9, 24.1, 42.3, 48.5, 50. , 22.6, 24.4, 22.5, 24.4,\n",
       "       20. , 21.7, 19.3, 22.4, 28.1, 23.7, 25. , 23.3, 28.7, 21.5, 23. ,\n",
       "       26.7, 21.7, 27.5, 30.1, 44.8, 50. , 37.6, 31.6, 46.7, 31.5, 24.3,\n",
       "       31.7, 41.7, 48.3, 29. , 24. , 25.1, 31.5, 23.7, 23.3, 22. , 20.1,\n",
       "       22.2, 23.7, 17.6, 18.5, 24.3, 20.5, 24.5, 26.2, 24.4, 24.8, 29.6,\n",
       "       42.8, 21.9, 20.9, 44. , 50. , 36. , 30.1, 33.8, 43.1, 48.8, 31. ,\n",
       "       36.5, 22.8, 30.7, 50. , 43.5, 20.7, 21.1, 25.2, 24.4, 35.2, 32.4,\n",
       "       32. , 33.2, 33.1, 29.1, 35.1, 45.4, 35.4, 46. , 50. , 32.2, 22. ,\n",
       "       20.1, 23.2, 22.3, 24.8, 28.5, 37.3, 27.9, 23.9, 21.7, 28.6, 27.1,\n",
       "       20.3, 22.5, 29. , 24.8, 22. , 26.4, 33.1, 36.1, 28.4, 33.4, 28.2,\n",
       "       22.8, 20.3, 16.1, 22.1, 19.4, 21.6, 23.8, 16.2, 17.8, 19.8, 23.1,\n",
       "       21. , 23.8, 23.1, 20.4, 18.5, 25. , 24.6, 23. , 22.2, 19.3, 22.6,\n",
       "       19.8, 17.1, 19.4, 22.2, 20.7, 21.1, 19.5, 18.5, 20.6, 19. , 18.7,\n",
       "       32.7, 16.5, 23.9, 31.2, 17.5, 17.2, 23.1, 24.5, 26.6, 22.9, 24.1,\n",
       "       18.6, 30.1, 18.2, 20.6, 17.8, 21.7, 22.7, 22.6, 25. , 19.9, 20.8,\n",
       "       16.8, 21.9, 27.5, 21.9, 23.1, 50. , 50. , 50. , 50. , 50. , 13.8,\n",
       "       13.8, 15. , 13.9, 13.3, 13.1, 10.2, 10.4, 10.9, 11.3, 12.3,  8.8,\n",
       "        7.2, 10.5,  7.4, 10.2, 11.5, 15.1, 23.2,  9.7, 13.8, 12.7, 13.1,\n",
       "       12.5,  8.5,  5. ,  6.3,  5.6,  7.2, 12.1,  8.3,  8.5,  5. , 11.9,\n",
       "       27.9, 17.2, 27.5, 15. , 17.2, 17.9, 16.3,  7. ,  7.2,  7.5, 10.4,\n",
       "        8.8,  8.4, 16.7, 14.2, 20.8, 13.4, 11.7,  8.3, 10.2, 10.9, 11. ,\n",
       "        9.5, 14.5, 14.1, 16.1, 14.3, 11.7, 13.4,  9.6,  8.7,  8.4, 12.8,\n",
       "       10.5, 17.1, 18.4, 15.4, 10.8, 11.8, 14.9, 12.6, 14.1, 13. , 13.4,\n",
       "       15.2, 16.1, 17.8, 14.9, 14.1, 12.7, 13.5, 14.9, 20. , 16.4, 17.7,\n",
       "       19.5, 20.2, 21.4, 19.9, 19. , 19.1, 19.1, 20.1, 19.9, 19.6, 23.2,\n",
       "       29.8, 13.8, 13.3, 16.7, 12. , 14.6, 21.4, 23. , 23.7, 25. , 21.8,\n",
       "       20.6, 21.2, 19.1, 20.6, 15.2,  7. ,  8.1, 13.6, 20.1, 21.8, 24.5,\n",
       "       23.1, 19.7, 18.3, 21.2, 17.5, 16.8, 22.4, 20.6, 23.9, 22. , 11.9])"
      ]
     },
     "execution_count": 4,
     "metadata": {},
     "output_type": "execute_result"
    }
   ],
   "source": [
    "x.target"
   ]
  },
  {
   "cell_type": "code",
   "execution_count": 5,
   "metadata": {},
   "outputs": [
    {
     "data": {
      "text/html": [
       "<div>\n",
       "<style scoped>\n",
       "    .dataframe tbody tr th:only-of-type {\n",
       "        vertical-align: middle;\n",
       "    }\n",
       "\n",
       "    .dataframe tbody tr th {\n",
       "        vertical-align: top;\n",
       "    }\n",
       "\n",
       "    .dataframe thead th {\n",
       "        text-align: right;\n",
       "    }\n",
       "</style>\n",
       "<table border=\"1\" class=\"dataframe\">\n",
       "  <thead>\n",
       "    <tr style=\"text-align: right;\">\n",
       "      <th></th>\n",
       "      <th>CRIM</th>\n",
       "      <th>ZN</th>\n",
       "      <th>INDUS</th>\n",
       "      <th>CHAS</th>\n",
       "      <th>NOX</th>\n",
       "      <th>RM</th>\n",
       "      <th>AGE</th>\n",
       "      <th>DIS</th>\n",
       "      <th>RAD</th>\n",
       "      <th>TAX</th>\n",
       "      <th>PTRATIO</th>\n",
       "      <th>B</th>\n",
       "      <th>LSTAT</th>\n",
       "    </tr>\n",
       "  </thead>\n",
       "  <tbody>\n",
       "    <tr>\n",
       "      <th>0</th>\n",
       "      <td>0.00632</td>\n",
       "      <td>18.0</td>\n",
       "      <td>2.31</td>\n",
       "      <td>0.0</td>\n",
       "      <td>0.538</td>\n",
       "      <td>6.575</td>\n",
       "      <td>65.2</td>\n",
       "      <td>4.0900</td>\n",
       "      <td>1.0</td>\n",
       "      <td>296.0</td>\n",
       "      <td>15.3</td>\n",
       "      <td>396.90</td>\n",
       "      <td>4.98</td>\n",
       "    </tr>\n",
       "    <tr>\n",
       "      <th>1</th>\n",
       "      <td>0.02731</td>\n",
       "      <td>0.0</td>\n",
       "      <td>7.07</td>\n",
       "      <td>0.0</td>\n",
       "      <td>0.469</td>\n",
       "      <td>6.421</td>\n",
       "      <td>78.9</td>\n",
       "      <td>4.9671</td>\n",
       "      <td>2.0</td>\n",
       "      <td>242.0</td>\n",
       "      <td>17.8</td>\n",
       "      <td>396.90</td>\n",
       "      <td>9.14</td>\n",
       "    </tr>\n",
       "    <tr>\n",
       "      <th>2</th>\n",
       "      <td>0.02729</td>\n",
       "      <td>0.0</td>\n",
       "      <td>7.07</td>\n",
       "      <td>0.0</td>\n",
       "      <td>0.469</td>\n",
       "      <td>7.185</td>\n",
       "      <td>61.1</td>\n",
       "      <td>4.9671</td>\n",
       "      <td>2.0</td>\n",
       "      <td>242.0</td>\n",
       "      <td>17.8</td>\n",
       "      <td>392.83</td>\n",
       "      <td>4.03</td>\n",
       "    </tr>\n",
       "    <tr>\n",
       "      <th>3</th>\n",
       "      <td>0.03237</td>\n",
       "      <td>0.0</td>\n",
       "      <td>2.18</td>\n",
       "      <td>0.0</td>\n",
       "      <td>0.458</td>\n",
       "      <td>6.998</td>\n",
       "      <td>45.8</td>\n",
       "      <td>6.0622</td>\n",
       "      <td>3.0</td>\n",
       "      <td>222.0</td>\n",
       "      <td>18.7</td>\n",
       "      <td>394.63</td>\n",
       "      <td>2.94</td>\n",
       "    </tr>\n",
       "    <tr>\n",
       "      <th>4</th>\n",
       "      <td>0.06905</td>\n",
       "      <td>0.0</td>\n",
       "      <td>2.18</td>\n",
       "      <td>0.0</td>\n",
       "      <td>0.458</td>\n",
       "      <td>7.147</td>\n",
       "      <td>54.2</td>\n",
       "      <td>6.0622</td>\n",
       "      <td>3.0</td>\n",
       "      <td>222.0</td>\n",
       "      <td>18.7</td>\n",
       "      <td>396.90</td>\n",
       "      <td>5.33</td>\n",
       "    </tr>\n",
       "  </tbody>\n",
       "</table>\n",
       "</div>"
      ],
      "text/plain": [
       "      CRIM    ZN  INDUS  CHAS    NOX     RM   AGE     DIS  RAD    TAX  \\\n",
       "0  0.00632  18.0   2.31   0.0  0.538  6.575  65.2  4.0900  1.0  296.0   \n",
       "1  0.02731   0.0   7.07   0.0  0.469  6.421  78.9  4.9671  2.0  242.0   \n",
       "2  0.02729   0.0   7.07   0.0  0.469  7.185  61.1  4.9671  2.0  242.0   \n",
       "3  0.03237   0.0   2.18   0.0  0.458  6.998  45.8  6.0622  3.0  222.0   \n",
       "4  0.06905   0.0   2.18   0.0  0.458  7.147  54.2  6.0622  3.0  222.0   \n",
       "\n",
       "   PTRATIO       B  LSTAT  \n",
       "0     15.3  396.90   4.98  \n",
       "1     17.8  396.90   9.14  \n",
       "2     17.8  392.83   4.03  \n",
       "3     18.7  394.63   2.94  \n",
       "4     18.7  396.90   5.33  "
      ]
     },
     "execution_count": 5,
     "metadata": {},
     "output_type": "execute_result"
    }
   ],
   "source": [
    "df=pd.DataFrame(x.data, columns=x.feature_names)\n",
    "df.head(5)"
   ]
  },
  {
   "cell_type": "code",
   "execution_count": 6,
   "metadata": {},
   "outputs": [
    {
     "data": {
      "text/html": [
       "<div>\n",
       "<style scoped>\n",
       "    .dataframe tbody tr th:only-of-type {\n",
       "        vertical-align: middle;\n",
       "    }\n",
       "\n",
       "    .dataframe tbody tr th {\n",
       "        vertical-align: top;\n",
       "    }\n",
       "\n",
       "    .dataframe thead th {\n",
       "        text-align: right;\n",
       "    }\n",
       "</style>\n",
       "<table border=\"1\" class=\"dataframe\">\n",
       "  <thead>\n",
       "    <tr style=\"text-align: right;\">\n",
       "      <th></th>\n",
       "      <th>CRIM</th>\n",
       "      <th>ZN</th>\n",
       "      <th>INDUS</th>\n",
       "      <th>CHAS</th>\n",
       "      <th>NOX</th>\n",
       "      <th>RM</th>\n",
       "      <th>AGE</th>\n",
       "      <th>DIS</th>\n",
       "      <th>RAD</th>\n",
       "      <th>TAX</th>\n",
       "      <th>PTRATIO</th>\n",
       "      <th>B</th>\n",
       "      <th>LSTAT</th>\n",
       "      <th>MEDV</th>\n",
       "    </tr>\n",
       "  </thead>\n",
       "  <tbody>\n",
       "    <tr>\n",
       "      <th>0</th>\n",
       "      <td>0.00632</td>\n",
       "      <td>18.0</td>\n",
       "      <td>2.31</td>\n",
       "      <td>0.0</td>\n",
       "      <td>0.538</td>\n",
       "      <td>6.575</td>\n",
       "      <td>65.2</td>\n",
       "      <td>4.0900</td>\n",
       "      <td>1.0</td>\n",
       "      <td>296.0</td>\n",
       "      <td>15.3</td>\n",
       "      <td>396.90</td>\n",
       "      <td>4.98</td>\n",
       "      <td>24.0</td>\n",
       "    </tr>\n",
       "    <tr>\n",
       "      <th>1</th>\n",
       "      <td>0.02731</td>\n",
       "      <td>0.0</td>\n",
       "      <td>7.07</td>\n",
       "      <td>0.0</td>\n",
       "      <td>0.469</td>\n",
       "      <td>6.421</td>\n",
       "      <td>78.9</td>\n",
       "      <td>4.9671</td>\n",
       "      <td>2.0</td>\n",
       "      <td>242.0</td>\n",
       "      <td>17.8</td>\n",
       "      <td>396.90</td>\n",
       "      <td>9.14</td>\n",
       "      <td>21.6</td>\n",
       "    </tr>\n",
       "    <tr>\n",
       "      <th>2</th>\n",
       "      <td>0.02729</td>\n",
       "      <td>0.0</td>\n",
       "      <td>7.07</td>\n",
       "      <td>0.0</td>\n",
       "      <td>0.469</td>\n",
       "      <td>7.185</td>\n",
       "      <td>61.1</td>\n",
       "      <td>4.9671</td>\n",
       "      <td>2.0</td>\n",
       "      <td>242.0</td>\n",
       "      <td>17.8</td>\n",
       "      <td>392.83</td>\n",
       "      <td>4.03</td>\n",
       "      <td>34.7</td>\n",
       "    </tr>\n",
       "    <tr>\n",
       "      <th>3</th>\n",
       "      <td>0.03237</td>\n",
       "      <td>0.0</td>\n",
       "      <td>2.18</td>\n",
       "      <td>0.0</td>\n",
       "      <td>0.458</td>\n",
       "      <td>6.998</td>\n",
       "      <td>45.8</td>\n",
       "      <td>6.0622</td>\n",
       "      <td>3.0</td>\n",
       "      <td>222.0</td>\n",
       "      <td>18.7</td>\n",
       "      <td>394.63</td>\n",
       "      <td>2.94</td>\n",
       "      <td>33.4</td>\n",
       "    </tr>\n",
       "    <tr>\n",
       "      <th>4</th>\n",
       "      <td>0.06905</td>\n",
       "      <td>0.0</td>\n",
       "      <td>2.18</td>\n",
       "      <td>0.0</td>\n",
       "      <td>0.458</td>\n",
       "      <td>7.147</td>\n",
       "      <td>54.2</td>\n",
       "      <td>6.0622</td>\n",
       "      <td>3.0</td>\n",
       "      <td>222.0</td>\n",
       "      <td>18.7</td>\n",
       "      <td>396.90</td>\n",
       "      <td>5.33</td>\n",
       "      <td>36.2</td>\n",
       "    </tr>\n",
       "  </tbody>\n",
       "</table>\n",
       "</div>"
      ],
      "text/plain": [
       "      CRIM    ZN  INDUS  CHAS    NOX     RM   AGE     DIS  RAD    TAX  \\\n",
       "0  0.00632  18.0   2.31   0.0  0.538  6.575  65.2  4.0900  1.0  296.0   \n",
       "1  0.02731   0.0   7.07   0.0  0.469  6.421  78.9  4.9671  2.0  242.0   \n",
       "2  0.02729   0.0   7.07   0.0  0.469  7.185  61.1  4.9671  2.0  242.0   \n",
       "3  0.03237   0.0   2.18   0.0  0.458  6.998  45.8  6.0622  3.0  222.0   \n",
       "4  0.06905   0.0   2.18   0.0  0.458  7.147  54.2  6.0622  3.0  222.0   \n",
       "\n",
       "   PTRATIO       B  LSTAT  MEDV  \n",
       "0     15.3  396.90   4.98  24.0  \n",
       "1     17.8  396.90   9.14  21.6  \n",
       "2     17.8  392.83   4.03  34.7  \n",
       "3     18.7  394.63   2.94  33.4  \n",
       "4     18.7  396.90   5.33  36.2  "
      ]
     },
     "execution_count": 6,
     "metadata": {},
     "output_type": "execute_result"
    }
   ],
   "source": [
    "df[\"MEDV\"]=x.target\n",
    "df.head()"
   ]
  },
  {
   "cell_type": "code",
   "execution_count": 7,
   "metadata": {},
   "outputs": [
    {
     "data": {
      "text/plain": [
       "(506, 14)"
      ]
     },
     "execution_count": 7,
     "metadata": {},
     "output_type": "execute_result"
    }
   ],
   "source": [
    "df.shape"
   ]
  },
  {
   "cell_type": "code",
   "execution_count": 8,
   "metadata": {},
   "outputs": [],
   "source": [
    "x = df.drop(\"MEDV\",1)   #Feature Matrix\n",
    "y = df[\"MEDV\"]          #Target Variable"
   ]
  },
  {
   "cell_type": "markdown",
   "metadata": {},
   "source": [
    "# Linear Regression model with all features"
   ]
  },
  {
   "cell_type": "code",
   "execution_count": 9,
   "metadata": {},
   "outputs": [
    {
     "name": "stdout",
     "output_type": "stream",
     "text": [
      "(404, 13)\n",
      "(404,)\n",
      "(102, 13)\n",
      "(102,)\n"
     ]
    },
    {
     "name": "stderr",
     "output_type": "stream",
     "text": [
      "C:\\Users\\MOHAN KUMAR SAH\\.conda\\envs\\python3.5\\lib\\site-packages\\sklearn\\cross_validation.py:41: DeprecationWarning: This module was deprecated in version 0.18 in favor of the model_selection module into which all the refactored classes and functions are moved. Also note that the interface of the new CV iterators are different from that of this module. This module will be removed in 0.20.\n",
      "  \"This module will be removed in 0.20.\", DeprecationWarning)\n"
     ]
    }
   ],
   "source": [
    "#Spliting the dataset into a training set and a testing set\n",
    "\n",
    "from sklearn.cross_validation import train_test_split\n",
    "\n",
    "x_train,x_test,y_train,y_test=train_test_split(x,y,test_size=0.2,random_state=5)\n",
    "print(x_train.shape)\n",
    "print(y_train.shape)\n",
    "print(x_test.shape)\n",
    "print(y_test.shape)"
   ]
  },
  {
   "cell_type": "code",
   "execution_count": 10,
   "metadata": {},
   "outputs": [],
   "source": [
    "# Since the range of values of raw data varies widely, in some machine learning algorithms, objective functions will not work properly without normalization. \n",
    "\n",
    "from sklearn.preprocessing import StandardScaler  \n",
    "scaler = StandardScaler()  \n",
    "scaler.fit(x_train)\n",
    "\n",
    "x_train = scaler.transform(x_train)  \n",
    "x_test = scaler.transform(x_test)"
   ]
  },
  {
   "cell_type": "code",
   "execution_count": 11,
   "metadata": {},
   "outputs": [
    {
     "data": {
      "text/plain": [
       "array([37.56069218, 32.14555633, 27.06833378,  5.66610661, 35.09698333,\n",
       "        5.83099151, 27.53756711, 31.809628  , 26.3580762 , 22.77119259,\n",
       "       31.91186024, 21.50095135, 23.70639369, 33.35648485, 28.51915286,\n",
       "       14.39181198,  0.1535427 , 18.65763854, 13.70732368, 14.12021541,\n",
       "        2.02605847, 19.72955829, 38.18124463, 24.19876798, 31.30039855,\n",
       "       11.11721913, 25.03882092, 23.28256933, 22.49148959, 20.52547734,\n",
       "       15.16124809,  6.92457595, 18.35860857, 22.35816369, 28.91372665,\n",
       "       19.03232417, 30.19611763,  8.69560779, 40.85710342, 34.53711266,\n",
       "       20.70151817,  2.59035572, 29.99988244, 12.10464815, 27.11069816,\n",
       "       30.80761691, -6.26665879, 19.85085368, 20.92314069, 12.42784947,\n",
       "       20.49429415, 19.19061463, 23.69678829, 12.65653174, 17.12436909,\n",
       "       25.04711172, 34.77503167, 15.18254259, 28.23119245, 21.08913078,\n",
       "       20.39429355, 25.79773782, 14.7265223 , 33.1939473 , 23.17552527,\n",
       "       13.12006695, 19.22713686, 24.61430325, 21.50693019, 22.00741424,\n",
       "       20.58630554, 27.20362038, 16.86683953, 18.89983949, 20.62550081,\n",
       "       25.72771714, 22.03612946, 14.50786496, 34.38598362, 18.52590516,\n",
       "       23.3948775 , 41.36545243, 23.26983742, 15.58871359, 25.70285814,\n",
       "       17.14597014, 18.50779465, 10.04955087, 19.00550024, 17.02518525,\n",
       "       35.70229109, 17.50736047, 22.16735557, 19.25641875, 24.16857554,\n",
       "       27.80796663, 12.41433425, 21.90747805, 22.39843008, 13.15687911,\n",
       "       23.97614451, 21.19605796])"
      ]
     },
     "execution_count": 11,
     "metadata": {},
     "output_type": "execute_result"
    }
   ],
   "source": [
    "from sklearn.linear_model import LinearRegression\n",
    "\n",
    "model=LinearRegression()\n",
    "model.fit(x_train,y_train)\n",
    "\n",
    "y_pred=model.predict(x_test)\n",
    "y_pred"
   ]
  },
  {
   "cell_type": "code",
   "execution_count": 12,
   "metadata": {},
   "outputs": [
    {
     "name": "stdout",
     "output_type": "stream",
     "text": [
      "Accuracy of the model is 73.30 %\n"
     ]
    }
   ],
   "source": [
    "print(\"Accuracy of the model is {:.2f} %\" .format(model.score(x_test,y_test)*100))"
   ]
  },
  {
   "cell_type": "markdown",
   "metadata": {},
   "source": [
    "# Feature Selection"
   ]
  },
  {
   "cell_type": "markdown",
   "metadata": {},
   "source": [
    "It is a technique which select the most relevant features from the original dataset"
   ]
  },
  {
   "cell_type": "markdown",
   "metadata": {},
   "source": [
    "# 1. Filter Method"
   ]
  },
  {
   "cell_type": "markdown",
   "metadata": {},
   "source": [
    "As the name suggest, in this method, you filter and take only the subset of the relevant features. The model is built after selecting the features. The filtering here is done using correlation matrix and it is most commonly done using Pearson correlation."
   ]
  },
  {
   "cell_type": "code",
   "execution_count": 13,
   "metadata": {},
   "outputs": [
    {
     "data": {
      "image/png": "[encoded data removed]",
      "text/plain": [
       "<Figure size 1224x720 with 2 Axes>"
      ]
     },
     "metadata": {},
     "output_type": "display_data"
    }
   ],
   "source": [
    "#Using Pearson Correlation\n",
    "plt.figure(figsize=(17,10))\n",
    "cor = df.corr()\n",
    "sns.heatmap(cor, annot=True)\n",
    "plt.show()"
   ]
  },
  {
   "cell_type": "code",
   "execution_count": 14,
   "metadata": {},
   "outputs": [
    {
     "data": {
      "text/plain": [
       "CRIM      -0.385832\n",
       "ZN         0.360445\n",
       "INDUS     -0.483725\n",
       "CHAS       0.175260\n",
       "NOX       -0.427321\n",
       "RM         0.695360\n",
       "AGE       -0.376955\n",
       "DIS        0.249929\n",
       "RAD       -0.381626\n",
       "TAX       -0.468536\n",
       "PTRATIO   -0.507787\n",
       "B          0.333461\n",
       "LSTAT     -0.737663\n",
       "MEDV       1.000000\n",
       "Name: MEDV, dtype: float64"
      ]
     },
     "execution_count": 14,
     "metadata": {},
     "output_type": "execute_result"
    }
   ],
   "source": [
    "cor[\"MEDV\"]"
   ]
  },
  {
   "cell_type": "code",
   "execution_count": 15,
   "metadata": {},
   "outputs": [
    {
     "data": {
      "text/plain": [
       "CRIM       0.385832\n",
       "ZN         0.360445\n",
       "INDUS      0.483725\n",
       "CHAS       0.175260\n",
       "NOX        0.427321\n",
       "RM         0.695360\n",
       "AGE        0.376955\n",
       "DIS        0.249929\n",
       "RAD        0.381626\n",
       "TAX        0.468536\n",
       "PTRATIO    0.507787\n",
       "B          0.333461\n",
       "LSTAT      0.737663\n",
       "MEDV       1.000000\n",
       "Name: MEDV, dtype: float64"
      ]
     },
     "execution_count": 15,
     "metadata": {},
     "output_type": "execute_result"
    }
   ],
   "source": [
    "#Correlation with output variable\n",
    "cor_target = abs(cor[\"MEDV\"])\n",
    "cor_target"
   ]
  },
  {
   "cell_type": "code",
   "execution_count": 127,
   "metadata": {},
   "outputs": [
    {
     "data": {
      "text/plain": [
       "RM         0.695360\n",
       "PTRATIO    0.507787\n",
       "LSTAT      0.737663\n",
       "MEDV       1.000000\n",
       "Name: MEDV, dtype: float64"
      ]
     },
     "execution_count": 127,
     "metadata": {},
     "output_type": "execute_result"
    }
   ],
   "source": [
    "#Selecting highly correlated features\n",
    "relevant_features = cor_target[cor_target>0.5]\n",
    "relevant_features"
   ]
  },
  {
   "cell_type": "markdown",
   "metadata": {},
   "source": [
    "As we can see, only the features RM, PTRATIO and LSTAT are highly correlated with the output variable MEDV. Hence we will drop all other features apart from these. "
   ]
  },
  {
   "cell_type": "markdown",
   "metadata": {},
   "source": [
    "If these variables are correlated with each other, then we need to keep only one of them and drop the rest. So let us check the correlation of selected features with each other. This can be done either by visually checking it from the above correlation matrix or from the code snippet below."
   ]
  },
  {
   "cell_type": "code",
   "execution_count": 124,
   "metadata": {},
   "outputs": [
    {
     "name": "stdout",
     "output_type": "stream",
     "text": [
      "            LSTAT   PTRATIO\n",
      "LSTAT    1.000000  0.374044\n",
      "PTRATIO  0.374044  1.000000\n",
      "\n",
      "             RM     LSTAT\n",
      "RM     1.000000 -0.613808\n",
      "LSTAT -0.613808  1.000000\n"
     ]
    }
   ],
   "source": [
    "print(df[[\"LSTAT\",\"PTRATIO\"]].corr())\n",
    "print()\n",
    "print(df[[\"RM\",\"LSTAT\"]].corr())"
   ]
  },
  {
   "cell_type": "markdown",
   "metadata": {},
   "source": [
    "From the above code, it is seen that the variables RM and LSTAT are highly correlated with each other (-0.613808). Hence we would keep only one variable and drop the other. We will keep LSTAT since its correlation with MEDV is higher than that of RM.\n",
    "\n",
    "After dropping RM, we are left with two feature, LSTAT and PTRATIO. These are the final features given by Pearson correlation."
   ]
  },
  {
   "cell_type": "markdown",
   "metadata": {},
   "source": [
    "# Linear Regression model with the selected features"
   ]
  },
  {
   "cell_type": "code",
   "execution_count": 126,
   "metadata": {},
   "outputs": [
    {
     "name": "stdout",
     "output_type": "stream",
     "text": [
      "(404, 2)\n",
      "(404,)\n",
      "(102, 2)\n",
      "(102,)\n"
     ]
    }
   ],
   "source": [
    "#Spliting the dataset into a training set and a testing set\n",
    "\n",
    "from sklearn.cross_validation import train_test_split\n",
    "\n",
    "x_train,x_test,y_train,y_test=train_test_split(x[[\"LSTAT\",\"PTRATIO\"]],y,test_size=0.2,random_state=5)\n",
    "print(x_train.shape)\n",
    "print(y_train.shape)\n",
    "print(x_test.shape)\n",
    "print(y_test.shape)"
   ]
  },
  {
   "cell_type": "code",
   "execution_count": 19,
   "metadata": {},
   "outputs": [],
   "source": [
    "# Since the range of values of raw data varies widely, in some machine learning algorithms, objective functions will not work properly without normalization. \n",
    "\n",
    "from sklearn.preprocessing import StandardScaler  \n",
    "scaler = StandardScaler()  \n",
    "scaler.fit(x_train)\n",
    "\n",
    "x_train = scaler.transform(x_train)  \n",
    "x_test = scaler.transform(x_test)"
   ]
  },
  {
   "cell_type": "code",
   "execution_count": 20,
   "metadata": {},
   "outputs": [
    {
     "data": {
      "text/plain": [
       "LinearRegression(copy_X=True, fit_intercept=True, n_jobs=1, normalize=False)"
      ]
     },
     "execution_count": 20,
     "metadata": {},
     "output_type": "execute_result"
    }
   ],
   "source": [
    "from sklearn.linear_model import LinearRegression\n",
    "\n",
    "model=LinearRegression()\n",
    "model.fit(x_train,y_train)"
   ]
  },
  {
   "cell_type": "code",
   "execution_count": 21,
   "metadata": {},
   "outputs": [
    {
     "data": {
      "text/plain": [
       "array([31.76004537, 28.3324873 , 26.48234268,  1.69463779, 27.43912546,\n",
       "        8.58162011, 25.43860683, 27.59227748, 25.33874783, 18.9840977 ,\n",
       "       28.46869717, 22.89773341, 24.80049835, 27.37570453, 26.46495207,\n",
       "       22.0471754 ,  2.03348071, 26.30830574, 14.40604335, 22.58430371,\n",
       "        6.12294724, 20.56339222, 30.904467  , 24.4701265 , 30.20889849,\n",
       "       10.9958759 , 26.02813122, 23.74618612, 26.33698903, 28.71207234,\n",
       "       10.90542851, 10.9599299 , 17.29835418, 16.96798234, 28.58200401,\n",
       "       19.5976899 , 26.3300876 , 10.48761152, 34.53255282, 31.68541895,\n",
       "       18.29794079,  0.8342633 , 27.97347576, 15.04504877, 29.78283466,\n",
       "       32.29941603, -0.17746933, 17.24179109, 25.61367776,  9.51711308,\n",
       "       18.39708349, 21.01325603, 25.32341893, 12.98612958, 24.18206643,\n",
       "       29.64021542, 30.68811829, 15.7905032 , 30.73159483, 23.71709795,\n",
       "       20.17484404, 26.77950294, 15.42145093, 33.66966814, 21.42376671,\n",
       "       14.40124723, 19.37331859, 27.52634637, 23.94447151, 21.44917993,\n",
       "       15.32459418, 28.18045646, 20.10568645, 14.39277616, 20.87314697,\n",
       "       31.06564162, 25.33413235, 19.38743913, 30.00899986, 17.84897392,\n",
       "       20.24628757, 34.74549441, 16.23256864, 18.29794079, 27.25204555,\n",
       "       14.79091659, 19.52257142,  9.39484311, 22.62477801, 26.76372556,\n",
       "       30.17573049, 18.50079807, 20.04298182, 17.09504843, 28.77639022,\n",
       "       30.63796456, 15.31979806, 26.74176306, 19.43396151, 23.88557888,\n",
       "       22.05062611, 24.36596345])"
      ]
     },
     "execution_count": 21,
     "metadata": {},
     "output_type": "execute_result"
    }
   ],
   "source": [
    "y_pred=model.predict(x_test)\n",
    "y_pred"
   ]
  },
  {
   "cell_type": "code",
   "execution_count": 22,
   "metadata": {},
   "outputs": [
    {
     "name": "stdout",
     "output_type": "stream",
     "text": [
      "Accuracy of the model is 55.28 %\n"
     ]
    }
   ],
   "source": [
    "print(\"Accuracy of the model is {:.2f} %\" .format(model.score(x_test,y_test)*100))"
   ]
  },
  {
   "cell_type": "markdown",
   "metadata": {},
   "source": [
    "# 2. Wrapper Method"
   ]
  },
  {
   "cell_type": "markdown",
   "metadata": {},
   "source": [
    "A wrapper method needs one machine learning algorithm and uses its performance as evaluation criteria. This means, you feed the features to the selected Machine Learning algorithm and based on the model performance you add/remove the features. This is an iterative and computationally expensive process but it is more accurate than the filter method.\n",
    "\n",
    "There are different wrapper methods such as Backward Elimination, Forward Selection, Bidirectional Elimination and RFE."
   ]
  },
  {
   "cell_type": "markdown",
   "metadata": {},
   "source": [
    "# i. Backward Elimination"
   ]
  },
  {
   "cell_type": "markdown",
   "metadata": {},
   "source": [
    "As the name suggest, we feed all the possible features to the model at first. We check the performance of the model and then iteratively remove the worst performing features one by one till the overall performance of the model comes in acceptable range.\n",
    "\n",
    "The performance metric used here to evaluate feature performance is pvalue. If the pvalue is above 0.05 then we remove the feature, else we keep it."
   ]
  },
  {
   "cell_type": "markdown",
   "metadata": {},
   "source": [
    "Here we are using OLS model which stands for “Ordinary Least Squares”. This model is used for performing linear regression."
   ]
  },
  {
   "cell_type": "code",
   "execution_count": 23,
   "metadata": {},
   "outputs": [
    {
     "data": {
      "text/plain": [
       "const      3.182440e-12\n",
       "CRIM       1.126402e-03\n",
       "ZN         7.836070e-04\n",
       "INDUS      7.345971e-01\n",
       "CHAS       1.912339e-03\n",
       "NOX        4.117296e-06\n",
       "RM         2.207486e-18\n",
       "AGE        9.546859e-01\n",
       "DIS        6.017651e-13\n",
       "RAD        5.189664e-06\n",
       "TAX        1.117826e-03\n",
       "PTRATIO    1.268218e-12\n",
       "B          5.072875e-04\n",
       "LSTAT      6.595808e-23\n",
       "dtype: float64"
      ]
     },
     "execution_count": 23,
     "metadata": {},
     "output_type": "execute_result"
    }
   ],
   "source": [
    "# pvalues for one iteration\n",
    "\n",
    "#Adding constant column of ones, mandatory for sm.OLS model\n",
    "x_1 = sm.add_constant(x)\n",
    "#Fitting sm.OLS model\n",
    "model = sm.OLS(y,x_1).fit()\n",
    "model.pvalues"
   ]
  },
  {
   "cell_type": "code",
   "execution_count": 24,
   "metadata": {},
   "outputs": [
    {
     "data": {
      "text/plain": [
       "'AGE'"
      ]
     },
     "execution_count": 24,
     "metadata": {},
     "output_type": "execute_result"
    }
   ],
   "source": [
    "model.pvalues.idxmax()"
   ]
  },
  {
   "cell_type": "code",
   "execution_count": 25,
   "metadata": {},
   "outputs": [
    {
     "data": {
      "text/plain": [
       "0.9546859016687121"
      ]
     },
     "execution_count": 25,
     "metadata": {},
     "output_type": "execute_result"
    }
   ],
   "source": [
    "max(model.pvalues)"
   ]
  },
  {
   "cell_type": "markdown",
   "metadata": {},
   "source": [
    "As we can see that the variable ‘AGE’ has highest pvalue of 0.9582293 which is greater than 0.05. Hence we will remove this feature and build the model once again. This is an iterative process and can be performed at once with the help of loop."
   ]
  },
  {
   "cell_type": "code",
   "execution_count": 26,
   "metadata": {},
   "outputs": [
    {
     "name": "stdout",
     "output_type": "stream",
     "text": [
      "['CRIM', 'ZN', 'CHAS', 'NOX', 'RM', 'DIS', 'RAD', 'TAX', 'PTRATIO', 'B', 'LSTAT']\n"
     ]
    }
   ],
   "source": [
    "#Backward Elimination\n",
    "cols = list(x.columns)\n",
    "\n",
    "while len(cols)>0:\n",
    "    x_1 = sm.add_constant(x[cols])\n",
    "    model = sm.OLS(y,x_1).fit()\n",
    "    pmax=max(model.pvalues)\n",
    "    feature_with_pmax=model.pvalues.idxmax()\n",
    "    if(pmax>0.05):\n",
    "        cols.remove(feature_with_pmax)\n",
    "    else:\n",
    "        break\n",
    "selected_features_be = cols\n",
    "print(selected_features_be)"
   ]
  },
  {
   "cell_type": "markdown",
   "metadata": {},
   "source": [
    "This approach gives the final set of variables which are CRIM, ZN, CHAS, NOX, RM, DIS, RAD, TAX, PTRATIO, B and LSTAT"
   ]
  },
  {
   "cell_type": "markdown",
   "metadata": {},
   "source": [
    "# Linear Regression model with the selected features"
   ]
  },
  {
   "cell_type": "code",
   "execution_count": 27,
   "metadata": {},
   "outputs": [
    {
     "name": "stdout",
     "output_type": "stream",
     "text": [
      "(404, 11)\n",
      "(404,)\n",
      "(102, 11)\n",
      "(102,)\n"
     ]
    }
   ],
   "source": [
    "#Spliting the dataset into a training set and a testing set\n",
    "\n",
    "from sklearn.cross_validation import train_test_split\n",
    "\n",
    "x_train,x_test,y_train,y_test=train_test_split(x[selected_features_be],y,test_size=0.2,random_state=5)\n",
    "print(x_train.shape)\n",
    "print(y_train.shape)\n",
    "print(x_test.shape)\n",
    "print(y_test.shape)"
   ]
  },
  {
   "cell_type": "code",
   "execution_count": 28,
   "metadata": {},
   "outputs": [],
   "source": [
    "# Since the range of values of raw data varies widely, in some machine learning algorithms, objective functions will not work properly without normalization. \n",
    "\n",
    "from sklearn.preprocessing import StandardScaler  \n",
    "scaler = StandardScaler()  \n",
    "scaler.fit(x_train)\n",
    "\n",
    "x_train = scaler.transform(x_train)  \n",
    "x_test = scaler.transform(x_test)"
   ]
  },
  {
   "cell_type": "code",
   "execution_count": 29,
   "metadata": {},
   "outputs": [
    {
     "data": {
      "text/plain": [
       "LinearRegression(copy_X=True, fit_intercept=True, n_jobs=1, normalize=False)"
      ]
     },
     "execution_count": 29,
     "metadata": {},
     "output_type": "execute_result"
    }
   ],
   "source": [
    "from sklearn.linear_model import LinearRegression\n",
    "\n",
    "model=LinearRegression()\n",
    "model.fit(x_train,y_train)"
   ]
  },
  {
   "cell_type": "code",
   "execution_count": 30,
   "metadata": {},
   "outputs": [
    {
     "data": {
      "text/plain": [
       "array([37.53777265, 32.15755469, 27.07619184,  5.68066257, 35.11051982,\n",
       "        5.83916078, 27.52121872, 31.81433681, 26.35511706, 22.77003563,\n",
       "       31.91992908, 21.51907574, 23.69746997, 33.37772013, 28.5151852 ,\n",
       "       14.38377113,  0.14838278, 18.65143798, 13.72841159, 14.07887242,\n",
       "        2.02824674, 19.70502157, 38.17329441, 24.20146848, 31.30857367,\n",
       "       11.1230464 , 25.04240778, 23.28975307, 22.50233624, 20.50159365,\n",
       "       15.13798331,  6.9196427 , 18.35275074, 22.35478979, 28.94203658,\n",
       "       19.01019964, 30.18811281,  8.69316678, 40.85112685, 34.5599446 ,\n",
       "       20.6983965 ,  2.60040378, 29.98235762, 12.10250097, 27.09117372,\n",
       "       30.78092062, -6.2596338 , 19.81957077, 20.92647122, 12.43417511,\n",
       "       20.49530025, 19.20910925, 23.70426521, 12.64042288, 17.12447044,\n",
       "       25.02554151, 34.81144666, 15.18573246, 28.23419895, 21.08436724,\n",
       "       20.40180855, 25.82310147, 14.71397983, 33.15608964, 23.18583149,\n",
       "       13.11469286, 19.20161987, 24.65936896, 21.53866811, 22.02213492,\n",
       "       20.57829308, 27.22020483, 16.85485098, 18.88763357, 20.60306954,\n",
       "       25.67407128, 22.00660216, 14.52335951, 34.38022006, 18.52015032,\n",
       "       23.36482864, 41.34425133, 23.2691044 , 15.57638003, 25.70142158,\n",
       "       17.14250198, 18.52168091, 10.05239825, 18.98490819, 17.0217687 ,\n",
       "       35.72265443, 17.48940411, 22.15625199, 19.25090134, 24.21884973,\n",
       "       27.82192433, 12.39347158, 21.90843365, 22.42121382, 13.15624043,\n",
       "       23.97104036, 21.17958049])"
      ]
     },
     "execution_count": 30,
     "metadata": {},
     "output_type": "execute_result"
    }
   ],
   "source": [
    "y_pred=model.predict(x_test)\n",
    "y_pred"
   ]
  },
  {
   "cell_type": "code",
   "execution_count": 31,
   "metadata": {},
   "outputs": [
    {
     "name": "stdout",
     "output_type": "stream",
     "text": [
      "Accuracy of the model is 73.30 %\n"
     ]
    }
   ],
   "source": [
    "print(\"Accuracy of the model is {:.2f} %\" .format(model.score(x_test,y_test)*100))"
   ]
  },
  {
   "cell_type": "markdown",
   "metadata": {},
   "source": [
    "# ii. RFE (Recursive Feature Elimination)"
   ]
  },
  {
   "cell_type": "markdown",
   "metadata": {},
   "source": [
    "The Recursive Feature Elimination (RFE) method works by recursively removing attributes and building a model on those attributes that remain. It uses accuracy metric to rank the feature according to their importance. The RFE method takes the model to be used and the number of required features as input. It then gives the ranking of all the variables, 1 being most important. It also gives its support, True being relevant feature and False being irrelevant feature."
   ]
  },
  {
   "cell_type": "code",
   "execution_count": 32,
   "metadata": {},
   "outputs": [
    {
     "name": "stdout",
     "output_type": "stream",
     "text": [
      "[False False False  True  True  True False  True  True False  True False\n",
      "  True]\n",
      "\n",
      "[2 4 3 1 1 1 7 1 1 5 1 6 1]\n",
      "\n",
      "Index(['CHAS', 'NOX', 'RM', 'DIS', 'RAD', 'PTRATIO', 'LSTAT'], dtype='object')\n",
      "\n",
      "7\n"
     ]
    }
   ],
   "source": [
    "model = LinearRegression()\n",
    "\n",
    "#Initializing RFE model\n",
    "rfe = RFE(model, 7)\n",
    "\n",
    "#Transforming data using RFE\n",
    "x_rfe = rfe.fit_transform(x,y)\n",
    "\n",
    "temp = pd.Series(rfe.support_, index = x.columns)\n",
    "selected_features_rfe = temp[temp==True].index\n",
    "\n",
    "print(rfe.support_)\n",
    "print()\n",
    "print(rfe.ranking_)\n",
    "print()\n",
    "print(selected_features_rfe)\n",
    "print()\n",
    "print(rfe.n_features_)"
   ]
  },
  {
   "cell_type": "markdown",
   "metadata": {},
   "source": [
    "Here we took LinearRegression model with 7 features and RFE gave feature ranking as above, but the selection of number ‘7’ was random. Now we need to find the optimum number of features, for which the accuracy is the highest. We do that by using loop starting with 1 feature and going up to 13. We then take the one for which the accuracy is highest."
   ]
  },
  {
   "cell_type": "code",
   "execution_count": 33,
   "metadata": {},
   "outputs": [
    {
     "name": "stdout",
     "output_type": "stream",
     "text": [
      "Optimum number of features: 5\n",
      "Score with 5 features: 0.774709\n"
     ]
    }
   ],
   "source": [
    "x_train, x_test, y_train, y_test = train_test_split(x, y, test_size=0.2, random_state=5)\n",
    "model = LinearRegression()\n",
    "max_score=0\n",
    "nof=0\n",
    "\n",
    "for n in range(1, x.shape[1]+1):\n",
    "    #Initializing RFE model\n",
    "    rfe = RFE(model, n)\n",
    "    x_train_rfe = rfe.fit_transform(x_train,y_train)\n",
    "    x_test_rfe = rfe.transform(x_test)\n",
    "    \n",
    "    #Fitting the data to model\n",
    "    model.fit(x_train_rfe,y_train)\n",
    "    \n",
    "    # computing score of the model\n",
    "    score=model.score(x_test_rfe,y_test)\n",
    "    if(max_score<score):\n",
    "        max_score=score\n",
    "        nof=n \n",
    "    \n",
    "print(\"Optimum number of features: %d\" %nof)\n",
    "print(\"Score with %d features: %f\" % (nof, max_score))"
   ]
  },
  {
   "cell_type": "code",
   "execution_count": 34,
   "metadata": {},
   "outputs": [
    {
     "name": "stdout",
     "output_type": "stream",
     "text": [
      "Index(['CHAS', 'NOX', 'RM', 'DIS', 'PTRATIO'], dtype='object')\n"
     ]
    }
   ],
   "source": [
    "cols = list(x.columns)\n",
    "model = LinearRegression()\n",
    "\n",
    "#Initializing RFE model\n",
    "rfe = RFE(model, nof)  \n",
    "\n",
    "#Transforming data using RFE\n",
    "X_rfe = rfe.fit_transform(x,y)\n",
    "\n",
    "#Fitting the data to model\n",
    "model.fit(X_rfe,y)\n",
    "\n",
    "temp = pd.Series(rfe.support_, index = cols)\n",
    "selected_features_rfe = temp[temp==True].index\n",
    "\n",
    "print(selected_features_rfe)"
   ]
  },
  {
   "cell_type": "markdown",
   "metadata": {},
   "source": [
    "# Linear Regression model with the selected features"
   ]
  },
  {
   "cell_type": "code",
   "execution_count": 35,
   "metadata": {},
   "outputs": [
    {
     "name": "stdout",
     "output_type": "stream",
     "text": [
      "(404, 5)\n",
      "(404,)\n",
      "(102, 5)\n",
      "(102,)\n"
     ]
    }
   ],
   "source": [
    "#Spliting the dataset into a training set and a testing set\n",
    "\n",
    "from sklearn.cross_validation import train_test_split\n",
    "\n",
    "x_train,x_test,y_train,y_test=train_test_split(x[selected_features_rfe],y,test_size=0.2,random_state=5)\n",
    "print(x_train.shape)\n",
    "print(y_train.shape)\n",
    "print(x_test.shape)\n",
    "print(y_test.shape)"
   ]
  },
  {
   "cell_type": "code",
   "execution_count": 36,
   "metadata": {},
   "outputs": [],
   "source": [
    "# Since the range of values of raw data varies widely, in some machine learning algorithms, objective functions will not work properly without normalization. \n",
    "\n",
    "from sklearn.preprocessing import StandardScaler  \n",
    "scaler = StandardScaler()  \n",
    "scaler.fit(x_train)\n",
    "\n",
    "x_train = scaler.transform(x_train)  \n",
    "x_test = scaler.transform(x_test)"
   ]
  },
  {
   "cell_type": "code",
   "execution_count": 37,
   "metadata": {},
   "outputs": [
    {
     "data": {
      "text/plain": [
       "array([36.86185944, 27.00615612, 26.73874345, 10.14704133, 37.8946143 ,\n",
       "       11.8280499 , 24.47146018, 32.51397315, 27.08477879, 21.08397053,\n",
       "       33.89153464, 18.52092739, 21.33926995, 30.84178748, 26.55677127,\n",
       "       18.97104974, 10.39833923, 12.76277814, 15.60952768, 17.67523699,\n",
       "       12.79257211, 18.54016078, 38.60720539, 23.5079831 , 32.85829274,\n",
       "       13.01376379, 22.72908088, 23.62513504, 18.99229312, 22.26937648,\n",
       "       19.65305728, 14.88828713, 14.9116316 , 23.10160054, 28.81641706,\n",
       "       18.30487491, 31.42471161, 15.31283042, 40.59224242, 29.74151079,\n",
       "       16.83735891, 10.86041097, 27.71500324, 14.01662198, 28.68360973,\n",
       "       31.581962  ,  6.38446107, 20.1765694 , 17.27634314, 17.99301794,\n",
       "       21.04853587, 20.01427959, 25.17174038, 18.51403162, 14.66002207,\n",
       "       23.78009463, 36.44583144, 17.6303012 , 29.4992144 , 23.09677041,\n",
       "       19.93284306, 24.52820949, 14.77814617, 31.13935146, 17.40851728,\n",
       "       11.58822228, 20.35228984, 24.10172378, 22.54123884, 17.3677598 ,\n",
       "       20.8222943 , 22.74288088, 19.89003969, 24.54668423, 14.77818333,\n",
       "       23.4317461 , 23.84657236, 14.0479306 , 34.02736615, 14.73384389,\n",
       "       21.18014172, 44.40300025, 29.5555163 , 15.83644384, 24.41183955,\n",
       "       17.19448915, 17.13394871,  9.30815019, 23.53063959, 17.87522728,\n",
       "       35.60705598, 17.43708776, 19.55881527, 15.21392837, 26.18561021,\n",
       "       26.56150963, 14.63349328, 24.12737764, 25.84707077, 11.78558844,\n",
       "       20.94233156, 22.54207713])"
      ]
     },
     "execution_count": 37,
     "metadata": {},
     "output_type": "execute_result"
    }
   ],
   "source": [
    "from sklearn.linear_model import LinearRegression\n",
    "\n",
    "model=LinearRegression()\n",
    "model.fit(x_train,y_train)\n",
    "\n",
    "y_pred=model.predict(x_test)\n",
    "y_pred"
   ]
  },
  {
   "cell_type": "code",
   "execution_count": 38,
   "metadata": {},
   "outputs": [
    {
     "name": "stdout",
     "output_type": "stream",
     "text": [
      "Accuracy of the model is 77.47 %\n"
     ]
    }
   ],
   "source": [
    "print(\"Accuracy of the model is {:.2f} %\" .format(model.score(x_test,y_test)*100))"
   ]
  },
  {
   "cell_type": "markdown",
   "metadata": {},
   "source": [
    "# 3. Embedded Method"
   ]
  },
  {
   "cell_type": "markdown",
   "metadata": {},
   "source": [
    "Embedded methods are iterative in a sense that takes care of each iteration of the model training process and carefully extract those features which contribute the most to the training for a particular iteration. Regularization methods are the most commonly used embedded methods which penalize a feature given a coefficient threshold.\n",
    "\n",
    "Here we will do feature selection using Lasso regularization. If the feature is irrelevant, lasso penalizes it’s coefficient and make it 0. Hence the features with coefficient = 0 are removed and the rest are taken."
   ]
  },
  {
   "cell_type": "markdown",
   "metadata": {},
   "source": [
    "# i. Lasso regression"
   ]
  },
  {
   "cell_type": "code",
   "execution_count": 130,
   "metadata": {},
   "outputs": [
    {
     "name": "stdout",
     "output_type": "stream",
     "text": [
      "Best alpha using built-in LassoCV: 0.724820\n",
      "Best score using built-in LassoCV: 0.702390\n"
     ]
    }
   ],
   "source": [
    "reg = LassoCV()\n",
    "reg.fit(x, y)\n",
    "print(\"Best alpha using built-in LassoCV: %f\" % reg.alpha_)\n",
    "print(\"Best score using built-in LassoCV: %f\" %reg.score(x,y))"
   ]
  },
  {
   "cell_type": "code",
   "execution_count": 40,
   "metadata": {},
   "outputs": [
    {
     "data": {
      "text/plain": [
       "array([-0.07391859,  0.04944576, -0.        ,  0.        , -0.        ,\n",
       "        1.80092396,  0.01135702, -0.81333654,  0.27206588, -0.01542027,\n",
       "       -0.74314538,  0.00898036, -0.70409988])"
      ]
     },
     "execution_count": 40,
     "metadata": {},
     "output_type": "execute_result"
    }
   ],
   "source": [
    "reg.coef_"
   ]
  },
  {
   "cell_type": "code",
   "execution_count": 41,
   "metadata": {},
   "outputs": [
    {
     "data": {
      "text/plain": [
       "CRIM      -0.073919\n",
       "ZN         0.049446\n",
       "INDUS     -0.000000\n",
       "CHAS       0.000000\n",
       "NOX       -0.000000\n",
       "RM         1.800924\n",
       "AGE        0.011357\n",
       "DIS       -0.813337\n",
       "RAD        0.272066\n",
       "TAX       -0.015420\n",
       "PTRATIO   -0.743145\n",
       "B          0.008980\n",
       "LSTAT     -0.704100\n",
       "dtype: float64"
      ]
     },
     "execution_count": 41,
     "metadata": {},
     "output_type": "execute_result"
    }
   ],
   "source": [
    "coef = pd.Series(reg.coef_, index = x.columns)\n",
    "coef"
   ]
  },
  {
   "cell_type": "code",
   "execution_count": 42,
   "metadata": {},
   "outputs": [
    {
     "name": "stdout",
     "output_type": "stream",
     "text": [
      "Lasso picked 10 variables and eliminated the other 3 variables\n"
     ]
    }
   ],
   "source": [
    "print(\"Lasso picked \" + str(coef[coef!=0].count()) + \" variables and eliminated the other \" +  str(coef[coef==0].count()) + \" variables\")"
   ]
  },
  {
   "cell_type": "code",
   "execution_count": 43,
   "metadata": {},
   "outputs": [
    {
     "data": {
      "text/plain": [
       "Text(0.5,1,'Feature importance using Lasso Model')"
      ]
     },
     "execution_count": 43,
     "metadata": {},
     "output_type": "execute_result"
    },
    {
     "data": {
      "image/png": "[encoded data removed]",
      "text/plain": [
       "<Figure size 1080x720 with 1 Axes>"
      ]
     },
     "metadata": {},
     "output_type": "display_data"
    }
   ],
   "source": [
    "imp_coef = coef.sort_values()\n",
    "import matplotlib\n",
    "plt.figure(figsize=(15, 10))\n",
    "imp_coef.plot(kind = \"barh\")\n",
    "plt.title(\"Feature importance using Lasso Model\", fontsize=20)"
   ]
  },
  {
   "cell_type": "markdown",
   "metadata": {},
   "source": [
    "Here Lasso model has taken all the features except NOX, CHAS and INDUS."
   ]
  },
  {
   "cell_type": "code",
   "execution_count": 44,
   "metadata": {},
   "outputs": [
    {
     "data": {
      "text/plain": [
       "Index(['CRIM', 'ZN', 'RM', 'AGE', 'DIS', 'RAD', 'TAX', 'PTRATIO', 'B',\n",
       "       'LSTAT'],\n",
       "      dtype='object')"
      ]
     },
     "execution_count": 44,
     "metadata": {},
     "output_type": "execute_result"
    }
   ],
   "source": [
    "selected_feature_LS=coef[coef!=0].index\n",
    "selected_feature_LS"
   ]
  },
  {
   "cell_type": "markdown",
   "metadata": {},
   "source": [
    "# Linear Regression model with the selected features"
   ]
  },
  {
   "cell_type": "code",
   "execution_count": 45,
   "metadata": {},
   "outputs": [
    {
     "name": "stdout",
     "output_type": "stream",
     "text": [
      "(404, 10)\n",
      "(404,)\n",
      "(102, 10)\n",
      "(102,)\n"
     ]
    }
   ],
   "source": [
    "#Spliting the dataset into a training set and a testing set\n",
    "\n",
    "from sklearn.cross_validation import train_test_split\n",
    "\n",
    "x_train,x_test,y_train,y_test=train_test_split(x[selected_feature_LS],y,test_size=0.2,random_state=5)\n",
    "print(x_train.shape)\n",
    "print(y_train.shape)\n",
    "print(x_test.shape)\n",
    "print(y_test.shape)"
   ]
  },
  {
   "cell_type": "code",
   "execution_count": 46,
   "metadata": {},
   "outputs": [],
   "source": [
    "# Since the range of values of raw data varies widely, in some machine learning algorithms, objective functions will not work properly without normalization. \n",
    "\n",
    "from sklearn.preprocessing import StandardScaler  \n",
    "scaler = StandardScaler()  \n",
    "scaler.fit(x_train)\n",
    "\n",
    "x_train = scaler.transform(x_train)  \n",
    "x_test = scaler.transform(x_test)"
   ]
  },
  {
   "cell_type": "code",
   "execution_count": 47,
   "metadata": {},
   "outputs": [
    {
     "data": {
      "text/plain": [
       "array([37.481578  , 32.41615731, 26.70242786,  4.68104273, 32.73878482,\n",
       "        5.42528899, 28.59464683, 28.98400325, 25.97338281, 22.08673866,\n",
       "       31.21922338, 22.5632189 , 23.94032889, 33.82533999, 28.49812177,\n",
       "       14.24105559, -2.20838595, 22.40251459, 13.75416396, 12.92984194,\n",
       "        0.30523269, 20.60876998, 38.07804006, 24.66989741, 31.38484929,\n",
       "       11.94080677, 25.43589929, 22.85125467, 24.26210654, 21.21060564,\n",
       "       15.33550206,  5.48443315, 18.87918945, 23.46917672, 28.49388538,\n",
       "       19.8572524 , 27.35992018,  8.32875669, 42.49870719, 35.23149133,\n",
       "       21.31908956,  2.09032315, 29.68593277, 12.7386914 , 26.57972773,\n",
       "       30.33282992, -7.06168806, 20.43348454, 24.78421715, 12.59177058,\n",
       "       19.81356954, 19.63728531, 22.60882957, 12.52032809, 20.75213247,\n",
       "       25.74100979, 34.48060717, 15.93362469, 27.95518495, 20.96302881,\n",
       "       20.6592356 , 25.70897319, 15.14947565, 33.35231493, 22.78739775,\n",
       "       13.4280409 , 19.79003737, 25.03625786, 20.85519267, 21.69947633,\n",
       "       19.94510992, 27.7279783 , 16.4227652 , 17.52535783, 20.49757501,\n",
       "       27.76269357, 21.75840098, 17.97951082, 35.59621057, 19.41920158,\n",
       "       21.88666589, 39.17798178, 19.45389537, 16.35704175, 25.02663743,\n",
       "       17.89970249, 18.71580421, 10.1590289 , 18.06189551, 17.71378917,\n",
       "       36.12727943, 17.8986878 , 21.69854472, 20.54805508, 23.6465276 ,\n",
       "       28.32392978, 12.84638618, 22.7896313 , 19.25879576, 16.62806742,\n",
       "       22.89662539, 21.29428189])"
      ]
     },
     "execution_count": 47,
     "metadata": {},
     "output_type": "execute_result"
    }
   ],
   "source": [
    "from sklearn.linear_model import LinearRegression\n",
    "\n",
    "model=LinearRegression()\n",
    "model.fit(x_train,y_train)\n",
    "\n",
    "y_pred=model.predict(x_test)\n",
    "y_pred"
   ]
  },
  {
   "cell_type": "code",
   "execution_count": 48,
   "metadata": {},
   "outputs": [
    {
     "name": "stdout",
     "output_type": "stream",
     "text": [
      "Accuracy of the model is 70.03 %\n"
     ]
    }
   ],
   "source": [
    "print(\"Accuracy of the model is {:.2f} %\" .format(model.score(x_test,y_test)*100))"
   ]
  },
  {
   "cell_type": "markdown",
   "metadata": {},
   "source": [
    "# ii. Ridge regression"
   ]
  },
  {
   "cell_type": "markdown",
   "metadata": {},
   "source": [
    "It is basically a regularization technique and an embedded feature selection techniques as well."
   ]
  },
  {
   "cell_type": "code",
   "execution_count": 135,
   "metadata": {},
   "outputs": [
    {
     "data": {
      "text/plain": [
       "Ridge(alpha=1.0, copy_X=True, fit_intercept=True, max_iter=None,\n",
       "   normalize=False, random_state=None, solver='auto', tol=0.001)"
      ]
     },
     "execution_count": 135,
     "metadata": {},
     "output_type": "execute_result"
    }
   ],
   "source": [
    "ridge = Ridge()\n",
    "ridge.fit(x,y)"
   ]
  },
  {
   "cell_type": "code",
   "execution_count": 136,
   "metadata": {},
   "outputs": [
    {
     "data": {
      "text/plain": [
       "array([-1.036e-01,  4.741e-02, -8.547e-03,  2.554e+00, -1.079e+01,\n",
       "        3.849e+00, -5.368e-03, -1.373e+00,  2.896e-01, -1.291e-02,\n",
       "       -8.766e-01,  9.754e-03, -5.341e-01])"
      ]
     },
     "execution_count": 136,
     "metadata": {},
     "output_type": "execute_result"
    }
   ],
   "source": [
    "ridge.coef_"
   ]
  },
  {
   "cell_type": "code",
   "execution_count": 137,
   "metadata": {},
   "outputs": [
    {
     "data": {
      "text/plain": [
       "CRIM       -0.103622\n",
       "ZN          0.047414\n",
       "INDUS      -0.008547\n",
       "CHAS        2.554221\n",
       "NOX       -10.793436\n",
       "RM          3.849256\n",
       "AGE        -0.005368\n",
       "DIS        -1.372570\n",
       "RAD         0.289650\n",
       "TAX        -0.012907\n",
       "PTRATIO    -0.876633\n",
       "B           0.009754\n",
       "LSTAT      -0.534072\n",
       "dtype: float64"
      ]
     },
     "execution_count": 137,
     "metadata": {},
     "output_type": "execute_result"
    }
   ],
   "source": [
    "r_coef = pd.Series(ridge.coef_, index = x.columns)\n",
    "r_coef"
   ]
  },
  {
   "cell_type": "markdown",
   "metadata": {},
   "source": [
    "We can spot all the coefficient terms with the feature variables. It will again help us to choose the most essential features."
   ]
  },
  {
   "cell_type": "code",
   "execution_count": 138,
   "metadata": {},
   "outputs": [
    {
     "data": {
      "text/plain": [
       "Text(0.5,1,'Feature importance using Ridge Model')"
      ]
     },
     "execution_count": 138,
     "metadata": {},
     "output_type": "execute_result"
    },
    {
     "data": {
      "image/png": "[encoded data removed]",
      "text/plain": [
       "<Figure size 1080x720 with 1 Axes>"
      ]
     },
     "metadata": {},
     "output_type": "display_data"
    }
   ],
   "source": [
    "imp_coef = r_coef.sort_values()\n",
    "plt.figure(figsize=(15, 10))\n",
    "imp_coef.plot(kind = \"barh\")\n",
    "plt.title(\"Feature importance using Ridge Model\", fontsize=20)"
   ]
  },
  {
   "cell_type": "markdown",
   "metadata": {},
   "source": [
    "# iii. Tree-based feature selection"
   ]
  },
  {
   "cell_type": "markdown",
   "metadata": {},
   "source": [
    "Bagged decision trees like Random Forest and Extra Trees can be used to estimate the importance of features.\n",
    "\n",
    "In the example below we construct a ExtraTreesRegressor regressor\n",
    "\n",
    "Use ExtraTreesClassifier classifier for classification problem\n",
    "\n",
    "Tree-based estimators can be used to compute feature importances, which in turn can be used to discard irrelevant features (when coupled with the sklearn.feature_selection.SelectFromModel meta-transformer)"
   ]
  },
  {
   "cell_type": "code",
   "execution_count": 99,
   "metadata": {},
   "outputs": [
    {
     "name": "stdout",
     "output_type": "stream",
     "text": [
      "[0.043 0.002 0.044 0.01  0.036 0.312 0.013 0.029 0.009 0.047 0.084 0.02\n",
      " 0.351]\n"
     ]
    }
   ],
   "source": [
    "# Feature Importance with Extra Trees Regressor\n",
    "from pandas import read_csv\n",
    "from sklearn.ensemble import ExtraTreesRegressor\n",
    "\n",
    "# feature extraction\n",
    "etr = ExtraTreesRegressor()\n",
    "etr.fit(x, y)\n",
    "etr_coef=etr.feature_importances_\n",
    "print(etr_coef)"
   ]
  },
  {
   "cell_type": "code",
   "execution_count": 100,
   "metadata": {},
   "outputs": [
    {
     "data": {
      "text/plain": [
       "CRIM       0.043491\n",
       "ZN         0.001828\n",
       "INDUS      0.043719\n",
       "CHAS       0.010296\n",
       "NOX        0.035525\n",
       "RM         0.312351\n",
       "AGE        0.012837\n",
       "DIS        0.028509\n",
       "RAD        0.009032\n",
       "TAX        0.046932\n",
       "PTRATIO    0.084080\n",
       "B          0.019905\n",
       "LSTAT      0.351497\n",
       "dtype: float64"
      ]
     },
     "execution_count": 100,
     "metadata": {},
     "output_type": "execute_result"
    }
   ],
   "source": [
    "etr1_coef = pd.Series(etr_coef, index = x.columns)\n",
    "etr1_coef"
   ]
  },
  {
   "cell_type": "markdown",
   "metadata": {},
   "source": [
    "You can see that we are given an importance score for each attribute where the larger score the more important the attribute."
   ]
  },
  {
   "cell_type": "code",
   "execution_count": 102,
   "metadata": {},
   "outputs": [
    {
     "data": {
      "text/plain": [
       "Text(0.5,1,'Feature importance using Ridge Model')"
      ]
     },
     "execution_count": 102,
     "metadata": {},
     "output_type": "execute_result"
    },
    {
     "data": {
      "image/png": "[encoded data removed]",
      "text/plain": [
       "<Figure size 1080x720 with 1 Axes>"
      ]
     },
     "metadata": {},
     "output_type": "display_data"
    }
   ],
   "source": [
    "imp_coef = etr1_coef.sort_values()\n",
    "plt.figure(figsize=(15, 10))\n",
    "imp_coef.plot(kind = \"barh\")\n",
    "plt.title(\"Feature importance using Ridge Model\", fontsize=20)"
   ]
  },
  {
   "cell_type": "code",
   "execution_count": 106,
   "metadata": {},
   "outputs": [
    {
     "data": {
      "text/plain": [
       "(506, 3)"
      ]
     },
     "execution_count": 106,
     "metadata": {},
     "output_type": "execute_result"
    }
   ],
   "source": [
    "from sklearn.feature_selection import SelectFromModel\n",
    "\n",
    "sfm = SelectFromModel(etr, prefit=True)\n",
    "x_n = sfm.transform(x)\n",
    "x_n.shape"
   ]
  },
  {
   "cell_type": "markdown",
   "metadata": {},
   "source": [
    "# Linear Regression model with the selected features"
   ]
  },
  {
   "cell_type": "code",
   "execution_count": 107,
   "metadata": {},
   "outputs": [
    {
     "name": "stdout",
     "output_type": "stream",
     "text": [
      "(404, 3)\n",
      "(404,)\n",
      "(102, 3)\n",
      "(102,)\n",
      "Accuracy of the model is 69.16 %\n"
     ]
    }
   ],
   "source": [
    "#Spliting the dataset into a training set and a testing set\n",
    "x_train,x_test,y_train,y_test=train_test_split(x_n,y,test_size=0.2,random_state=5)\n",
    "print(x_train.shape)\n",
    "print(y_train.shape)\n",
    "print(x_test.shape)\n",
    "print(y_test.shape)\n",
    "\n",
    "# Since the range of values of raw data varies widely, in some machine learning algorithms, objective functions will not work properly without normalization. \n",
    "scaler = StandardScaler()  \n",
    "scaler.fit(x_train)\n",
    "\n",
    "x_train = scaler.transform(x_train)  \n",
    "x_test = scaler.transform(x_test)\n",
    "\n",
    "\n",
    "model=LinearRegression()\n",
    "model.fit(x_train,y_train)\n",
    "y_pred=model.predict(x_test)\n",
    "\n",
    "\n",
    "print(\"Accuracy of the model is {:.2f} %\" .format(model.score(x_test,y_test)*100))"
   ]
  },
  {
   "cell_type": "markdown",
   "metadata": {},
   "source": [
    "# 4. Univariate feature selection"
   ]
  },
  {
   "cell_type": "markdown",
   "metadata": {},
   "source": [
    "Univariate feature selection works by selecting the best features based on univariate statistical tests. \n",
    "\n",
    "Statistical tests can be used to select those features that have the strongest relationship with the output variable.\n",
    "\n",
    "The scikit-learn library provides the SelectKBest class that can be used with a suite of different statistical tests to select a specific number of features.\n",
    "\n",
    "Statistical Test\n",
    "1. For regression: f_regression, mutual_info_regression\n",
    "2. For classification: chi2, f_classif, mutual_info_classif\n",
    "\n",
    "The methods based on F-test estimate the degree of linear dependency between two random variables. On the other hand, mutual information methods can capture any kind of statistical dependency, but being nonparametric, they require more samples for accurate estimation.\n",
    "\n",
    "The example below uses the f_regression statistical test"
   ]
  },
  {
   "cell_type": "code",
   "execution_count": 84,
   "metadata": {},
   "outputs": [
    {
     "data": {
      "text/plain": [
       "(506, 13)"
      ]
     },
     "execution_count": 84,
     "metadata": {},
     "output_type": "execute_result"
    }
   ],
   "source": [
    "from sklearn.feature_selection import SelectKBest\n",
    "from sklearn.feature_selection import f_regression\n",
    "\n",
    "# feature extraction\n",
    "skb = SelectKBest(score_func=f_regression, k=13)\n",
    "fit=skb.fit(x, y)\n",
    "x_new=skb.fit_transform(x, y)   # or fit.transform(x)\n",
    "x_new.shape"
   ]
  },
  {
   "cell_type": "markdown",
   "metadata": {},
   "source": [
    "# Linear Regression model with the selected features"
   ]
  },
  {
   "cell_type": "code",
   "execution_count": 88,
   "metadata": {},
   "outputs": [
    {
     "name": "stdout",
     "output_type": "stream",
     "text": [
      "(404, 13)\n",
      "(404,)\n",
      "(102, 13)\n",
      "(102,)\n",
      "Accuracy of the model is 73.30 %\n"
     ]
    }
   ],
   "source": [
    "#Spliting the dataset into a training set and a testing set\n",
    "x_train,x_test,y_train,y_test=train_test_split(x_new,y,test_size=0.2,random_state=5)\n",
    "print(x_train.shape)\n",
    "print(y_train.shape)\n",
    "print(x_test.shape)\n",
    "print(y_test.shape)\n",
    "\n",
    "# Since the range of values of raw data varies widely, in some machine learning algorithms, objective functions will not work properly without normalization. \n",
    "scaler = StandardScaler()  \n",
    "scaler.fit(x_train)\n",
    "\n",
    "x_train = scaler.transform(x_train)  \n",
    "x_test = scaler.transform(x_test)\n",
    "\n",
    "\n",
    "model=LinearRegression()\n",
    "model.fit(x_train,y_train)\n",
    "y_pred=model.predict(x_test)\n",
    "\n",
    "\n",
    "print(\"Accuracy of the model is {:.2f} %\" .format(model.score(x_test,y_test)*100))"
   ]
  },
  {
   "cell_type": "code",
   "execution_count": null,
   "metadata": {},
   "outputs": [],
   "source": []
  },
  {
   "cell_type": "code",
   "execution_count": null,
   "metadata": {},
   "outputs": [],
   "source": []
  }
 ],
 "metadata": {
  "kernelspec": {
   "display_name": "Python 3",
   "language": "python",
   "name": "python3"
  },
  "language_info": {
   "codemirror_mode": {
    "name": "ipython",
    "version": 3
   },
   "file_extension": ".py",
   "mimetype": "text/x-python",
   "name": "python",
   "nbconvert_exporter": "python",
   "pygments_lexer": "ipython3",
   "version": "3.7.2"
  }
 },
 "nbformat": 4,
 "nbformat_minor": 2
}
